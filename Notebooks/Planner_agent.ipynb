{
 "cells": [
  {
   "cell_type": "markdown",
   "id": "e86b9581",
   "metadata": {},
   "source": [
    "Planner Agent Workflow and its output\n"
   ]
  },
  {
   "cell_type": "code",
   "execution_count": null,
   "id": "4cdf6ae6",
   "metadata": {
    "vscode": {
     "languageId": "plaintext"
    }
   },
   "outputs": [],
   "source": [
    "import\n"
   ]
  }
 ],
 "metadata": {
  "language_info": {
   "name": "python"
  }
 },
 "nbformat": 4,
 "nbformat_minor": 5
}
